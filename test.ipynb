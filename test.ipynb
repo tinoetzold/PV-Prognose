{
 "metadata": {
  "language_info": {
   "codemirror_mode": {
    "name": "ipython",
    "version": 3
   },
   "file_extension": ".py",
   "mimetype": "text/x-python",
   "name": "python",
   "nbconvert_exporter": "python",
   "pygments_lexer": "ipython3",
   "version": "3.7.10-final"
  },
  "orig_nbformat": 2,
  "kernelspec": {
   "name": "python3710jvsc74a57bd069b3fe07e9d2c8c5deae6c145c430701d39702d0c32f28317e011fc8793f6157",
   "display_name": "Python 3.7.10 64-bit ('venv')"
  }
 },
 "nbformat": 4,
 "nbformat_minor": 2,
 "cells": [
  {
   "cell_type": "code",
   "execution_count": 24,
   "metadata": {},
   "outputs": [],
   "source": [
    "import pandas as pd\n",
    "import pvlib\n",
    "import datetime"
   ]
  },
  {
   "cell_type": "code",
   "execution_count": 25,
   "metadata": {},
   "outputs": [],
   "source": [
    "data_file = os.path.join(os.getcwd(), \"output\", \"2021_04_03_09_50_Uhr.csv\")\n",
    "\n",
    "forecast_data = pd.read_csv(data_file, index_col=\"date\")\n",
    "forecast_data.index = pd.to_datetime(forecast_data.index)\n",
    "\n",
    "ghi = forecast_data.RAD_WH"
   ]
  },
  {
   "cell_type": "code",
   "execution_count": 19,
   "metadata": {},
   "outputs": [],
   "source": []
  },
  {
   "cell_type": "code",
   "execution_count": 26,
   "metadata": {},
   "outputs": [],
   "source": [
    "today = datetime.date.today()# + datetime.timedelta(days=1)\n",
    "start = datetime.datetime(year=today.year, month=today.month, day=today.day, hour=5)\n",
    "start = pd.Timestamp(start).tz_localize('utc')\n",
    "end = datetime.datetime(year=today.year, month=today.month, day=today.day, hour=20)\n",
    "end = pd.Timestamp(end).tz_localize('utc')\n",
    "ghi = ghi.loc[start:end]"
   ]
  },
  {
   "cell_type": "code",
   "execution_count": 27,
   "metadata": {},
   "outputs": [],
   "source": [
    "mylatitude = 51.4\n",
    "mylongitude = 6.86\n",
    "myaltitude = 90\n",
    "solpos = pvlib.solarposition.get_solarposition(time = ghi.index, latitude=mylatitude, longitude=mylongitude, altitude=myaltitude)"
   ]
  },
  {
   "cell_type": "code",
   "execution_count": 28,
   "metadata": {},
   "outputs": [
    {
     "output_type": "execute_result",
     "data": {
      "text/plain": [
       "date\n",
       "2021-04-03 05:00:00+00:00      0.00000\n",
       "2021-04-03 06:00:00+00:00      8.33334\n",
       "2021-04-03 07:00:00+00:00     72.22228\n",
       "2021-04-03 08:00:00+00:00    186.11126\n",
       "2021-04-03 09:00:00+00:00    308.33358\n",
       "2021-04-03 10:00:00+00:00    400.00032\n",
       "2021-04-03 11:00:00+00:00    461.11148\n",
       "2021-04-03 12:00:00+00:00    500.00040\n",
       "2021-04-03 13:00:00+00:00    458.33370\n",
       "2021-04-03 14:00:00+00:00    386.11142\n",
       "2021-04-03 15:00:00+00:00    319.44470\n",
       "2021-04-03 16:00:00+00:00    222.22240\n",
       "2021-04-03 17:00:00+00:00    127.77788\n",
       "2021-04-03 18:00:00+00:00     41.66670\n",
       "2021-04-03 19:00:00+00:00      0.00000\n",
       "2021-04-03 20:00:00+00:00      0.00000\n",
       "Name: RAD_WH, dtype: float64"
      ]
     },
     "metadata": {},
     "execution_count": 28
    }
   ],
   "source": [
    "ghi"
   ]
  },
  {
   "cell_type": "code",
   "execution_count": 29,
   "metadata": {},
   "outputs": [
    {
     "output_type": "execute_result",
     "data": {
      "text/plain": [
       "                                  dni        kt    airmass\n",
       "date                                                      \n",
       "2021-04-03 05:00:00+00:00    0.000000  0.000000        NaN\n",
       "2021-04-03 06:00:00+00:00    0.000000  0.043766   6.863031\n",
       "2021-04-03 07:00:00+00:00    0.000000  0.177559   3.332144\n",
       "2021-04-03 08:00:00+00:00   35.012412  0.309027   2.264406\n",
       "2021-04-03 09:00:00+00:00  107.620819  0.403791   1.789454\n",
       "2021-04-03 10:00:00+00:00  156.176646  0.454641   1.554314\n",
       "2021-04-03 11:00:00+00:00  196.781671  0.488982   1.450621\n",
       "2021-04-03 12:00:00+00:00  260.430174  0.526942   1.441685\n",
       "2021-04-03 13:00:00+00:00  241.590608  0.510935   1.524596\n",
       "2021-04-03 14:00:00+00:00  222.542502  0.488077   1.727653\n",
       "2021-04-03 15:00:00+00:00  281.619307  0.500511   2.137944\n",
       "2021-04-03 16:00:00+00:00  328.009741  0.494990   3.025078\n",
       "2021-04-03 17:00:00+00:00  503.488710  0.541129   5.620773\n",
       "2021-04-03 18:00:00+00:00    0.000000  0.467796  12.000000\n",
       "2021-04-03 19:00:00+00:00    0.000000  0.000000        NaN\n",
       "2021-04-03 20:00:00+00:00    0.000000  0.000000        NaN"
      ],
      "text/html": "<div>\n<style scoped>\n    .dataframe tbody tr th:only-of-type {\n        vertical-align: middle;\n    }\n\n    .dataframe tbody tr th {\n        vertical-align: top;\n    }\n\n    .dataframe thead th {\n        text-align: right;\n    }\n</style>\n<table border=\"1\" class=\"dataframe\">\n  <thead>\n    <tr style=\"text-align: right;\">\n      <th></th>\n      <th>dni</th>\n      <th>kt</th>\n      <th>airmass</th>\n    </tr>\n    <tr>\n      <th>date</th>\n      <th></th>\n      <th></th>\n      <th></th>\n    </tr>\n  </thead>\n  <tbody>\n    <tr>\n      <th>2021-04-03 05:00:00+00:00</th>\n      <td>0.000000</td>\n      <td>0.000000</td>\n      <td>NaN</td>\n    </tr>\n    <tr>\n      <th>2021-04-03 06:00:00+00:00</th>\n      <td>0.000000</td>\n      <td>0.043766</td>\n      <td>6.863031</td>\n    </tr>\n    <tr>\n      <th>2021-04-03 07:00:00+00:00</th>\n      <td>0.000000</td>\n      <td>0.177559</td>\n      <td>3.332144</td>\n    </tr>\n    <tr>\n      <th>2021-04-03 08:00:00+00:00</th>\n      <td>35.012412</td>\n      <td>0.309027</td>\n      <td>2.264406</td>\n    </tr>\n    <tr>\n      <th>2021-04-03 09:00:00+00:00</th>\n      <td>107.620819</td>\n      <td>0.403791</td>\n      <td>1.789454</td>\n    </tr>\n    <tr>\n      <th>2021-04-03 10:00:00+00:00</th>\n      <td>156.176646</td>\n      <td>0.454641</td>\n      <td>1.554314</td>\n    </tr>\n    <tr>\n      <th>2021-04-03 11:00:00+00:00</th>\n      <td>196.781671</td>\n      <td>0.488982</td>\n      <td>1.450621</td>\n    </tr>\n    <tr>\n      <th>2021-04-03 12:00:00+00:00</th>\n      <td>260.430174</td>\n      <td>0.526942</td>\n      <td>1.441685</td>\n    </tr>\n    <tr>\n      <th>2021-04-03 13:00:00+00:00</th>\n      <td>241.590608</td>\n      <td>0.510935</td>\n      <td>1.524596</td>\n    </tr>\n    <tr>\n      <th>2021-04-03 14:00:00+00:00</th>\n      <td>222.542502</td>\n      <td>0.488077</td>\n      <td>1.727653</td>\n    </tr>\n    <tr>\n      <th>2021-04-03 15:00:00+00:00</th>\n      <td>281.619307</td>\n      <td>0.500511</td>\n      <td>2.137944</td>\n    </tr>\n    <tr>\n      <th>2021-04-03 16:00:00+00:00</th>\n      <td>328.009741</td>\n      <td>0.494990</td>\n      <td>3.025078</td>\n    </tr>\n    <tr>\n      <th>2021-04-03 17:00:00+00:00</th>\n      <td>503.488710</td>\n      <td>0.541129</td>\n      <td>5.620773</td>\n    </tr>\n    <tr>\n      <th>2021-04-03 18:00:00+00:00</th>\n      <td>0.000000</td>\n      <td>0.467796</td>\n      <td>12.000000</td>\n    </tr>\n    <tr>\n      <th>2021-04-03 19:00:00+00:00</th>\n      <td>0.000000</td>\n      <td>0.000000</td>\n      <td>NaN</td>\n    </tr>\n    <tr>\n      <th>2021-04-03 20:00:00+00:00</th>\n      <td>0.000000</td>\n      <td>0.000000</td>\n      <td>NaN</td>\n    </tr>\n  </tbody>\n</table>\n</div>"
     },
     "metadata": {},
     "execution_count": 29
    }
   ],
   "source": [
    "dni =  pvlib.irradiance.disc(ghi=ghi, solar_zenith=solpos.zenith, datetime_or_doy=ghi.index)\n",
    "dni"
   ]
  },
  {
   "cell_type": "code",
   "execution_count": 33,
   "metadata": {},
   "outputs": [
    {
     "output_type": "execute_result",
     "data": {
      "text/plain": [
       "                                  dni        kt    airmass\n",
       "date                                                      \n",
       "2021-04-03 05:00:00+00:00    0.000000  0.000000        NaN\n",
       "2021-04-03 06:00:00+00:00    0.000000  0.043766   6.863031\n",
       "2021-04-03 07:00:00+00:00    0.000000  0.177559   3.332144\n",
       "2021-04-03 08:00:00+00:00   35.012412  0.309027   2.264406\n",
       "2021-04-03 09:00:00+00:00  107.620819  0.403791   1.789454\n",
       "2021-04-03 10:00:00+00:00  156.176646  0.454641   1.554314\n",
       "2021-04-03 11:00:00+00:00  196.781671  0.488982   1.450621\n",
       "2021-04-03 12:00:00+00:00  260.430174  0.526942   1.441685\n",
       "2021-04-03 13:00:00+00:00  241.590608  0.510935   1.524596\n",
       "2021-04-03 14:00:00+00:00  222.542502  0.488077   1.727653\n",
       "2021-04-03 15:00:00+00:00  281.619307  0.500511   2.137944\n",
       "2021-04-03 16:00:00+00:00  328.009741  0.494990   3.025078\n",
       "2021-04-03 17:00:00+00:00  503.488710  0.541129   5.620773\n",
       "2021-04-03 18:00:00+00:00    0.000000  1.000000  12.000000\n",
       "2021-04-03 19:00:00+00:00    0.000000  0.000000        NaN\n",
       "2021-04-03 20:00:00+00:00    0.000000  0.000000        NaN"
      ],
      "text/html": "<div>\n<style scoped>\n    .dataframe tbody tr th:only-of-type {\n        vertical-align: middle;\n    }\n\n    .dataframe tbody tr th {\n        vertical-align: top;\n    }\n\n    .dataframe thead th {\n        text-align: right;\n    }\n</style>\n<table border=\"1\" class=\"dataframe\">\n  <thead>\n    <tr style=\"text-align: right;\">\n      <th></th>\n      <th>dni</th>\n      <th>kt</th>\n      <th>airmass</th>\n    </tr>\n    <tr>\n      <th>date</th>\n      <th></th>\n      <th></th>\n      <th></th>\n    </tr>\n  </thead>\n  <tbody>\n    <tr>\n      <th>2021-04-03 05:00:00+00:00</th>\n      <td>0.000000</td>\n      <td>0.000000</td>\n      <td>NaN</td>\n    </tr>\n    <tr>\n      <th>2021-04-03 06:00:00+00:00</th>\n      <td>0.000000</td>\n      <td>0.043766</td>\n      <td>6.863031</td>\n    </tr>\n    <tr>\n      <th>2021-04-03 07:00:00+00:00</th>\n      <td>0.000000</td>\n      <td>0.177559</td>\n      <td>3.332144</td>\n    </tr>\n    <tr>\n      <th>2021-04-03 08:00:00+00:00</th>\n      <td>35.012412</td>\n      <td>0.309027</td>\n      <td>2.264406</td>\n    </tr>\n    <tr>\n      <th>2021-04-03 09:00:00+00:00</th>\n      <td>107.620819</td>\n      <td>0.403791</td>\n      <td>1.789454</td>\n    </tr>\n    <tr>\n      <th>2021-04-03 10:00:00+00:00</th>\n      <td>156.176646</td>\n      <td>0.454641</td>\n      <td>1.554314</td>\n    </tr>\n    <tr>\n      <th>2021-04-03 11:00:00+00:00</th>\n      <td>196.781671</td>\n      <td>0.488982</td>\n      <td>1.450621</td>\n    </tr>\n    <tr>\n      <th>2021-04-03 12:00:00+00:00</th>\n      <td>260.430174</td>\n      <td>0.526942</td>\n      <td>1.441685</td>\n    </tr>\n    <tr>\n      <th>2021-04-03 13:00:00+00:00</th>\n      <td>241.590608</td>\n      <td>0.510935</td>\n      <td>1.524596</td>\n    </tr>\n    <tr>\n      <th>2021-04-03 14:00:00+00:00</th>\n      <td>222.542502</td>\n      <td>0.488077</td>\n      <td>1.727653</td>\n    </tr>\n    <tr>\n      <th>2021-04-03 15:00:00+00:00</th>\n      <td>281.619307</td>\n      <td>0.500511</td>\n      <td>2.137944</td>\n    </tr>\n    <tr>\n      <th>2021-04-03 16:00:00+00:00</th>\n      <td>328.009741</td>\n      <td>0.494990</td>\n      <td>3.025078</td>\n    </tr>\n    <tr>\n      <th>2021-04-03 17:00:00+00:00</th>\n      <td>503.488710</td>\n      <td>0.541129</td>\n      <td>5.620773</td>\n    </tr>\n    <tr>\n      <th>2021-04-03 18:00:00+00:00</th>\n      <td>0.000000</td>\n      <td>1.000000</td>\n      <td>12.000000</td>\n    </tr>\n    <tr>\n      <th>2021-04-03 19:00:00+00:00</th>\n      <td>0.000000</td>\n      <td>0.000000</td>\n      <td>NaN</td>\n    </tr>\n    <tr>\n      <th>2021-04-03 20:00:00+00:00</th>\n      <td>0.000000</td>\n      <td>0.000000</td>\n      <td>NaN</td>\n    </tr>\n  </tbody>\n</table>\n</div>"
     },
     "metadata": {},
     "execution_count": 33
    }
   ],
   "source": [
    "dni =  pvlib.irradiance.disc(ghi=ghi, solar_zenith=solpos.zenith, datetime_or_doy=ghi.index, min_cos_zenith=0.01, max_zenith=85)\n",
    "dni"
   ]
  },
  {
   "cell_type": "code",
   "execution_count": 35,
   "metadata": {},
   "outputs": [
    {
     "output_type": "execute_result",
     "data": {
      "text/plain": [
       "date\n",
       "2021-04-03 05:00:00+00:00     91.340186\n",
       "2021-04-03 06:00:00+00:00     82.012792\n",
       "2021-04-03 07:00:00+00:00     72.732666\n",
       "2021-04-03 08:00:00+00:00     63.928127\n",
       "2021-04-03 09:00:00+00:00     56.134591\n",
       "2021-04-03 10:00:00+00:00     50.054742\n",
       "2021-04-03 11:00:00+00:00     46.514847\n",
       "2021-04-03 12:00:00+00:00     46.175626\n",
       "2021-04-03 13:00:00+00:00     49.108320\n",
       "2021-04-03 14:00:00+00:00     54.738790\n",
       "2021-04-03 15:00:00+00:00     62.240510\n",
       "2021-04-03 16:00:00+00:00     70.875538\n",
       "2021-04-03 17:00:00+00:00     80.077258\n",
       "2021-04-03 18:00:00+00:00     89.400612\n",
       "2021-04-03 19:00:00+00:00     98.447663\n",
       "2021-04-03 20:00:00+00:00    106.800407\n",
       "Name: zenith, dtype: float64"
      ]
     },
     "metadata": {},
     "execution_count": 35
    }
   ],
   "source": [
    "solpos.zenith"
   ]
  },
  {
   "cell_type": "code",
   "execution_count": null,
   "metadata": {},
   "outputs": [],
   "source": []
  }
 ]
}